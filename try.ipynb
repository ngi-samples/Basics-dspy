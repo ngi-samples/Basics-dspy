{
 "cells": [
  {
   "cell_type": "code",
   "execution_count": 3,
   "metadata": {},
   "outputs": [
    {
     "name": "stdout",
     "output_type": "stream",
     "text": [
      "Why don't scientists trust atoms?\n",
      "\n",
      "Because they make up everything!\n"
     ]
    }
   ],
   "source": [
    "from openai import OpenAI\n",
    "\n",
    "client = OpenAI(\n",
    "  base_url=\"https://openrouter.ai/api/v1\",\n",
    "  api_key=\"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\",\n",
    ")\n",
    "\n",
    "completion = client.chat.completions.create(\n",
    "    model=\"gpt-3.5-turbo\",  # ✅ Use correct model name\n",
    "    messages=[{\"role\": \"user\", \"content\": \"Tell me a joke\"}]\n",
    ")\n",
    "\n",
    "print(completion.choices[0].message.content)\n"
   ]
  },
  {
   "cell_type": "code",
   "execution_count": 18,
   "metadata": {},
   "outputs": [
    {
     "name": "stdout",
     "output_type": "stream",
     "text": [
      "AI: I am a AI digital assistant designed to provide information and assistance to users. How can I help you today?\n",
      "AI: Unfortunately, I am not capable of storing long-term memory or remembering specific information for later retrieval. I can only provide real-time responses based on the information and data present within the current conversation. If you have a specific question or need assistance with something, feel free to ask and I will do my best to help in the moment.\n",
      "AI: I am a language model AI created by OpenAI and I do not have a personal name as I am just a program. Is there anything else I can assist you with?\n",
      "AI: As an API key, you can make up to 1000 free responses per day.\n",
      "Chat ended.\n"
     ]
    }
   ],
   "source": [
    "from openai import OpenAI\n",
    "\n",
    "# Initialize OpenAI client\n",
    "client = OpenAI(\n",
    "    base_url=\"https://openrouter.ai/api/v1\",\n",
    "    api_key=\"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\"  # Replace with your actual key\n",
    ")\n",
    "\n",
    "while True:  # Continuous loop to keep taking user input\n",
    "    user_input = input(\"You: \")  # Take input from the user\n",
    "    if user_input.lower() in [\"exit\", \"quit\", \"stop\"]:  # Exit condition\n",
    "        print(\"Chat ended.\")\n",
    "        break\n",
    "\n",
    "    # Generate response\n",
    "    completion = client.chat.completions.create(\n",
    "        model=\"gpt-3.5-turbo\",  # Correct model\n",
    "        messages=[{\"role\": \"user\", \"content\": user_input}]\n",
    "    )\n",
    "\n",
    "    # Print AI response\n",
    "    print(\"AI:\", completion.choices[0].message.content)\n"
   ]
  }
 ],
 "metadata": {
  "kernelspec": {
   "display_name": ".venv",
   "language": "python",
   "name": "python3"
  },
  "language_info": {
   "codemirror_mode": {
    "name": "ipython",
    "version": 3
   },
   "file_extension": ".py",
   "mimetype": "text/x-python",
   "name": "python",
   "nbconvert_exporter": "python",
   "pygments_lexer": "ipython3",
   "version": "3.12.2"
  }
 },
 "nbformat": 4,
 "nbformat_minor": 2
}
